{
 "cells": [
  {
   "cell_type": "code",
   "execution_count": 2,
   "id": "bbd1fa3f",
   "metadata": {},
   "outputs": [
    {
     "name": "stdout",
     "output_type": "stream",
     "text": [
      "Requirement already satisfied: python-chess in c:\\users\\admin\\anaconda3\\lib\\site-packages (1.999)\n",
      "Requirement already satisfied: chess<2,>=1 in c:\\users\\admin\\anaconda3\\lib\\site-packages (from python-chess) (1.10.0)\n",
      "Note: you may need to restart the kernel to use updated packages.\n"
     ]
    }
   ],
   "source": [
    "pip install python-chess"
   ]
  },
  {
   "cell_type": "code",
   "execution_count": null,
   "id": "3580d7a9",
   "metadata": {},
   "outputs": [],
   "source": []
  },
  {
   "cell_type": "code",
   "execution_count": 3,
   "id": "f71f0027",
   "metadata": {},
   "outputs": [
    {
     "name": "stdout",
     "output_type": "stream",
     "text": [
      "Best Move:  g1h3\n"
     ]
    }
   ],
   "source": [
    "import chess  # Import the chess module which provides the chess board and pieces\n",
    "\n",
    "def minimax_alpha_beta(position, depth, alpha, beta, maximizing_player):\n",
    "    if depth == 0 or position.is_game_over():  # Base case: if depth is 0 or game is over, return the board evaluation\n",
    "        return evaluate_board(position)\n",
    "    \n",
    "    if maximizing_player:  # If the current player is the maximizing player (usually white)\n",
    "        max_eval = float('-inf')  # Initialize maximum evaluation to negative infinity\n",
    "        for move in position.legal_moves:  # Iterate over all legal moves\n",
    "            position.push(move)  # Make the move\n",
    "            eval = minimax_alpha_beta(position, depth-1, alpha, beta, False)  # Recursively call minimax for the minimizing player\n",
    "            position.pop()  # Undo the move\n",
    "            max_eval = max(max_eval, eval)  # Update the maximum evaluation\n",
    "            alpha = max(alpha, eval)  # Update alpha\n",
    "            if beta <= alpha:  # Beta cutoff\n",
    "                break\n",
    "        return max_eval\n",
    "    else:  # If the current player is the minimizing player (usually black)\n",
    "        min_eval = float('inf')  # Initialize minimum evaluation to infinity\n",
    "        for move in position.legal_moves:  # Iterate over all legal moves\n",
    "            position.push(move)  # Make the move\n",
    "            eval = minimax_alpha_beta(position, depth-1, alpha, beta, True)  # Recursively call minimax for the maximizing player\n",
    "            position.pop()  # Undo the move\n",
    "            min_eval = min(min_eval, eval)  # Update the minimum evaluation\n",
    "            beta = min(beta, eval)  # Update beta\n",
    "            if beta <= alpha:  # Alpha cutoff\n",
    "                break\n",
    "        return min_eval\n",
    "\n",
    "def evaluate_board(position):\n",
    "    # Simplistic evaluation function for demonstration purposes\n",
    "    if position.is_checkmate():  # If the position is checkmate\n",
    "        if position.turn:  # If it's white's turn\n",
    "            return -9999  # Black wins, return large negative value\n",
    "        else:  # If it's black's turn\n",
    "            return 9999  # White wins, return large positive value\n",
    "    elif position.is_stalemate() or position.is_insufficient_material():  # If the position is stalemate or insufficient material\n",
    "        return 0  # Draw, return 0\n",
    "    else:  # Otherwise, evaluate based on material balance\n",
    "        material = sum(piece_value(piece) for piece in position.piece_map().values())  # Sum the values of all pieces on the board\n",
    "        return material\n",
    "\n",
    "def piece_value(piece):\n",
    "    values = {\n",
    "        chess.PAWN: 1,  # Assign value to pawn\n",
    "        chess.KNIGHT: 3,  # Assign value to knight\n",
    "        chess.BISHOP: 3,  # Assign value to bishop\n",
    "        chess.ROOK: 5,  # Assign value to rook\n",
    "        chess.QUEEN: 9,  # Assign value to queen\n",
    "        chess.KING: 0  # King has no material value for this evaluation\n",
    "    }\n",
    "    value = values[piece.piece_type]  # Get the piece value\n",
    "    return value if piece.color == chess.WHITE else -value  # Return positive value for white, negative for black\n",
    "\n",
    "# Example usage:\n",
    "board = chess.Board()  # Initialize a chess board\n",
    "depth = 3  # Set the search depth\n",
    "best_move = None  # Initialize best move\n",
    "best_value = float('-inf')  # Initialize best value to negative infinity\n",
    "for move in board.legal_moves:  # Iterate over all legal moves\n",
    "    board.push(move)  # Make the move\n",
    "    board_value = minimax_alpha_beta(board, depth-1, float('-inf'), float('inf'), False)  # Evaluate the move using minimax\n",
    "    board.pop()  # Undo the move\n",
    "    if board_value > best_value:  # If the move is better than the current best\n",
    "        best_value = board_value  # Update the best value\n",
    "        best_move = move  # Update the best move\n",
    "\n",
    "print(\"Best Move: \", best_move)  # Print the best move found\n"
   ]
  },
  {
   "cell_type": "code",
   "execution_count": null,
   "id": "817619f8",
   "metadata": {},
   "outputs": [],
   "source": []
  }
 ],
 "metadata": {
  "kernelspec": {
   "display_name": "Python 3 (ipykernel)",
   "language": "python",
   "name": "python3"
  },
  "language_info": {
   "codemirror_mode": {
    "name": "ipython",
    "version": 3
   },
   "file_extension": ".py",
   "mimetype": "text/x-python",
   "name": "python",
   "nbconvert_exporter": "python",
   "pygments_lexer": "ipython3",
   "version": "3.9.7"
  }
 },
 "nbformat": 4,
 "nbformat_minor": 5
}
